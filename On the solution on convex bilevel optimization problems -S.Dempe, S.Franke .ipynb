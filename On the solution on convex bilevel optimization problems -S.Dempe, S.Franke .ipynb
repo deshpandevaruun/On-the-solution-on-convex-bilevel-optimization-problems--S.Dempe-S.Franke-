{
 "cells": [
  {
   "cell_type": "code",
   "execution_count": 46,
   "metadata": {},
   "outputs": [],
   "source": [
    "# Z_1 = {0,3}\n",
    "# Phi(0) = 1 and Phi(3) = 1"
   ]
  },
  {
   "cell_type": "code",
   "execution_count": 47,
   "metadata": {},
   "outputs": [
    {
     "name": "stdout",
     "output_type": "stream",
     "text": [
      "Gurobi Optimizer version 9.1.0 build v9.1.0rc0 (win64)\n",
      "Thread count: 2 physical cores, 2 logical processors, using up to 2 threads\n",
      "Optimize a model with 3 rows, 2 columns and 5 nonzeros\n",
      "Model fingerprint: 0x35d07e09\n",
      "Model has 2 quadratic objective terms\n",
      "Coefficient statistics:\n",
      "  Matrix range     [1e+00, 1e+00]\n",
      "  Objective range  [2e+00, 3e+00]\n",
      "  QObjective range [2e+00, 2e+00]\n",
      "  Bounds range     [3e+00, 3e+00]\n",
      "  RHS range        [1e+00, 2e+00]\n",
      "Presolve removed 3 rows and 2 columns\n",
      "Presolve time: 0.03s\n",
      "Presolve: All rows and columns removed\n",
      "\n",
      "Barrier solved model in 0 iterations and 0.04 seconds\n",
      "Optimal objective 1.00000000e+00\n"
     ]
    }
   ],
   "source": [
    "import gurobipy as gp\n",
    "m = gp.Model()\n",
    "x_ = m.addVar(name = 'x', lb = 0, ub = 3)\n",
    "y_ = m.addVar(name = 'y')\n",
    "m.addConstr(x_-y_ >= 1)\n",
    "m.addConstr(y_ <= 0)\n",
    "m.addConstr(x_+y_ <= 2)\n",
    "m.setObjective((x_-1.5)**2 +(y_+1)**2)\n",
    "m.optimize()"
   ]
  },
  {
   "cell_type": "code",
   "execution_count": 44,
   "metadata": {},
   "outputs": [
    {
     "name": "stdout",
     "output_type": "stream",
     "text": [
      "1.5 0.0\n"
     ]
    }
   ],
   "source": [
    "print(x_.X, y_.X)"
   ]
  },
  {
   "cell_type": "code",
   "execution_count": 48,
   "metadata": {},
   "outputs": [
    {
     "name": "stdout",
     "output_type": "stream",
     "text": [
      "Enter x1.5\n",
      "Gurobi Optimizer version 9.1.0 build v9.1.0rc0 (win64)\n",
      "Thread count: 2 physical cores, 2 logical processors, using up to 2 threads\n",
      "Optimize a model with 2 rows, 2 columns and 3 nonzeros\n",
      "Model fingerprint: 0x361ab33b\n",
      "Coefficient statistics:\n",
      "  Matrix range     [1e+00, 3e+00]\n",
      "  Objective range  [1e+00, 1e+00]\n",
      "  Bounds range     [0e+00, 0e+00]\n",
      "  RHS range        [1e+00, 2e+00]\n",
      "Presolve removed 2 rows and 2 columns\n",
      "Presolve time: 0.04s\n",
      "Presolve: All rows and columns removed\n",
      "Iteration    Objective       Primal Inf.    Dual Inf.      Time\n",
      "       0    1.0000000e+00   0.000000e+00   0.000000e+00      0s\n",
      "\n",
      "Solved in 0 iterations and 0.06 seconds\n",
      "Optimal objective  1.000000000e+00\n"
     ]
    }
   ],
   "source": [
    "model = gp.Model()\n",
    "x = float(input(\"Enter x\"))                #Zeta_1\n",
    "xs = [0, 3]\n",
    "ys = [1, 1]\n",
    "n = [0,1]\n",
    "mu = model.addVars(n, name = 'mu', vtype = gp.GRB.CONTINUOUS, lb = 0)\n",
    "model.addConstr(gp.quicksum(mu[r] for r in n) == 1)\n",
    "model.addConstr(gp.quicksum(mu[r]*xs[r] for r in n)==x)\n",
    "model.setObjective(gp.quicksum(mu[r]*ys[r] for r in n), gp.GRB.MINIMIZE)\n",
    "model.optimize()"
   ]
  },
  {
   "cell_type": "code",
   "execution_count": 49,
   "metadata": {},
   "outputs": [],
   "source": [
    "# End of iteration 1"
   ]
  },
  {
   "cell_type": "code",
   "execution_count": 54,
   "metadata": {},
   "outputs": [
    {
     "name": "stdout",
     "output_type": "stream",
     "text": [
      "Gurobi Optimizer version 9.1.0 build v9.1.0rc0 (win64)\n",
      "Thread count: 2 physical cores, 2 logical processors, using up to 2 threads\n",
      "Optimize a model with 3 rows, 2 columns and 3 nonzeros\n",
      "Model fingerprint: 0x65e390ad\n",
      "Coefficient statistics:\n",
      "  Matrix range     [1e+00, 1e+00]\n",
      "  Objective range  [1e+00, 1e+00]\n",
      "  Bounds range     [0e+00, 0e+00]\n",
      "  RHS range        [5e-01, 5e-01]\n",
      "Presolve removed 3 rows and 2 columns\n",
      "Presolve time: 0.02s\n",
      "Presolve: All rows and columns removed\n",
      "Iteration    Objective       Primal Inf.    Dual Inf.      Time\n",
      "       0    0.0000000e+00   0.000000e+00   0.000000e+00      0s\n",
      "\n",
      "Solved in 0 iterations and 0.03 seconds\n",
      "Optimal objective  0.000000000e+00\n"
     ]
    }
   ],
   "source": [
    "#Z_2 = {0, 1.5}\n",
    "#Phi(0) = 1 and Phi(3) = 1\n",
    "#Find Phi(1.5) = 0\n",
    "m_phi = gp.Model()\n",
    "x = m_phi.addVar(name = 'x')\n",
    "y__ = m_phi.addVar(name = 'y')\n",
    "x = 1.5\n",
    "m_phi.addConstr(x-y__>=1)\n",
    "m_phi.addConstr(x+y__<=2)\n",
    "m_phi.addConstr(y__<=0)\n",
    "m_phi.setObjective(-y__, gp.GRB.MINIMIZE)\n",
    "m_phi.optimize()"
   ]
  },
  {
   "cell_type": "code",
   "execution_count": 55,
   "metadata": {},
   "outputs": [
    {
     "data": {
      "text/plain": [
       "0.0"
      ]
     },
     "execution_count": 55,
     "metadata": {},
     "output_type": "execute_result"
    }
   ],
   "source": [
    "y__.X"
   ]
  },
  {
   "cell_type": "code",
   "execution_count": 56,
   "metadata": {},
   "outputs": [
    {
     "name": "stdout",
     "output_type": "stream",
     "text": [
      "Enter x1.5\n",
      "Gurobi Optimizer version 9.1.0 build v9.1.0rc0 (win64)\n",
      "Thread count: 2 physical cores, 2 logical processors, using up to 2 threads\n",
      "Optimize a model with 2 rows, 3 columns and 5 nonzeros\n",
      "Model fingerprint: 0x115475c6\n",
      "Coefficient statistics:\n",
      "  Matrix range     [1e+00, 3e+00]\n",
      "  Objective range  [1e+00, 1e+00]\n",
      "  Bounds range     [0e+00, 0e+00]\n",
      "  RHS range        [1e+00, 2e+00]\n",
      "Presolve removed 2 rows and 3 columns\n",
      "Presolve time: 0.05s\n",
      "Presolve: All rows and columns removed\n",
      "Iteration    Objective       Primal Inf.    Dual Inf.      Time\n",
      "       0    0.0000000e+00   0.000000e+00   0.000000e+00      0s\n",
      "\n",
      "Solved in 0 iterations and 0.07 seconds\n",
      "Optimal objective  0.000000000e+00\n"
     ]
    }
   ],
   "source": [
    "model_2 = gp.Model()\n",
    "x = float(input(\"Enter x\"))\n",
    "xs = [0, 1.5, 3]                                                      #Zeta_2\n",
    "ys = [1, 0, 1]\n",
    "n = [i for i in range(len(xs))]\n",
    "mu = model_2.addVars(n, name = 'mu', vtype = gp.GRB.CONTINUOUS, lb = 0)\n",
    "model_2.addConstr(gp.quicksum(mu[r] for r in n) == 1)\n",
    "model_2.addConstr(gp.quicksum(mu[r]*xs[r] for r in n)==x)\n",
    "model_2.setObjective(gp.quicksum(mu[r]*ys[r] for r in n), gp.GRB.MINIMIZE)\n",
    "model_2.optimize()"
   ]
  },
  {
   "cell_type": "code",
   "execution_count": 57,
   "metadata": {},
   "outputs": [],
   "source": [
    "#Since f(1.5, 0) = Phi(1.5) = 0, so (x,y) = (1.5, 0) is the optimal value."
   ]
  },
  {
   "cell_type": "code",
   "execution_count": null,
   "metadata": {},
   "outputs": [],
   "source": []
  }
 ],
 "metadata": {
  "kernelspec": {
   "display_name": "Python 3",
   "language": "python",
   "name": "python3"
  },
  "language_info": {
   "codemirror_mode": {
    "name": "ipython",
    "version": 3
   },
   "file_extension": ".py",
   "mimetype": "text/x-python",
   "name": "python",
   "nbconvert_exporter": "python",
   "pygments_lexer": "ipython3",
   "version": "3.8.3"
  }
 },
 "nbformat": 4,
 "nbformat_minor": 4
}
