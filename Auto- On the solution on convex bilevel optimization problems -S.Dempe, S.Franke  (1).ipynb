{
 "cells": [
  {
   "cell_type": "code",
   "execution_count": 36,
   "metadata": {},
   "outputs": [],
   "source": [
    "import gurobipy as gp"
   ]
  },
  {
   "cell_type": "code",
   "execution_count": 40,
   "metadata": {},
   "outputs": [],
   "source": [
    "phi = {0:1, 3:1}\n",
    "optimal  = dict()\n",
    "z = []\n",
    "for keys in phi.keys():\n",
    "    z.append(keys)\n",
    "\n",
    "for i in range(15):\n",
    "    try:\n",
    "        j = 0\n",
    "        while j + 1 < len(z):\n",
    "            m = gp.Model()\n",
    "            m.setParam('OutputFlag', 0)\n",
    "            x = m.addVar(lb = -gp.GRB.INFINITY, ub = gp.GRB.INFINITY, name = 'x')\n",
    "            y = m.addVar(lb = -gp.GRB.INFINITY, ub = gp.GRB.INFINITY, name = 'y')\n",
    "        # Enter constraints and objective functions\n",
    "            constr_lower = [x-y >= 1, y <= 0, x+y <= 2]     ############################\n",
    "            constr_upper = [x >= 0, x <= 3]                 ############################# \n",
    "            F_upper = (x-1.5)**2 + (y+1)**2                 #############################\n",
    "            f_lower = -y                                    #############################\n",
    "            for cs in constr_lower:\n",
    "                m.addConstr(cs)\n",
    "            for cs in constr_upper:\n",
    "                m.addConstr(cs)\n",
    "#lagrangian = mu_1*phi[z[0]] + mu_2*phi[z[1]] - lambda_1*mu_1 - lambda_2*mu_2 + beta*(mu_1 + mu_2 - 1) + gamma*(mu_1*z[0] + mu_2*z[1])\n",
    "            mu_1 = m.addVar(name = \"mu_1\", ub = gp.GRB.INFINITY)\n",
    "            mu_2 = m.addVar(name = \"mu_2\", ub = gp.GRB.INFINITY)\n",
    "            lambda_1 = m.addVar(lb = 0, ub = gp.GRB.INFINITY)\n",
    "            lambda_2 = m.addVar(lb = 0, ub = gp.GRB.INFINITY)\n",
    "            beta = m.addVar(lb = -gp.GRB.INFINITY, ub = gp.GRB.INFINITY)\n",
    "            gamma = m.addVar(lb = -gp.GRB.INFINITY, ub = gp.GRB.INFINITY)\n",
    "            m.addConstr(phi[z[j]] - lambda_1 + beta + gamma*z[j] == 0)\n",
    "            m.addConstr(phi[z[j+1]] - lambda_2 + beta + gamma*z[j+1] == 0)\n",
    "            m.addConstr(mu_1 + mu_2 == 1)\n",
    "            m.addConstr(mu_1*z[j] + mu_2*z[j+1] == x)\n",
    "            m.addConstr(f_lower <= mu_1*phi[z[j]] +mu_2*phi[z[j+1]])\n",
    "            m.setObjective(F_upper, gp.GRB.MINIMIZE)\n",
    "            m.optimize()\n",
    "            F_upper_value = F_upper.getValue()\n",
    "            f_lower_value = f_lower.getValue()                  # Value of f at the new point\n",
    "            z.append(x.X)\n",
    "#Calculate Phi\n",
    "            model = gp.Model()\n",
    "            model.setParam('OutputFlag', 0)\n",
    "            x = model.addVar(lb = -gp.GRB.INFINITY, ub = gp.GRB.INFINITY, name = 'x')\n",
    "            y = model.addVar(lb = -gp.GRB.INFINITY, ub = gp.GRB.INFINITY, name = 'y')\n",
    "# Enter constraints and objective functions\n",
    "            constr_lower = [x-y >= 1, y <= 0, x+y <= 2]\n",
    "            constr_upper = [x >= 0, x <= 3]\n",
    "            F_upper = (x-1.5)**2 + (y+1)**2\n",
    "            f_lower = -y\n",
    "            for cs in constr_lower:\n",
    "                model.addConstr(cs)\n",
    "            for cs in constr_upper:\n",
    "                model.addConstr(cs)\n",
    "            model.addConstr(x >= z[j])\n",
    "            model.addConstr(x <= z[j+1])\n",
    "            x = z[len(z)-1]\n",
    "            model.setObjective(f_lower, gp.GRB.MINIMIZE)\n",
    "            model.optimize()\n",
    "#Use optimal objective\n",
    "            phi_value = f_lower.getValue()                           #Value of Phi at the new point\n",
    "# Append to dictionary and sort dictionar and the array z\n",
    "            phi[x] = phi_value\n",
    "# Also add termination condition given in the paper\n",
    "            if (phi_value == f_lower_value):\n",
    "                optimal[(x, y.X)] = F_upper_value\n",
    "        \n",
    "            phi = dict(sorted(phi.items()))\n",
    "            z.sort()\n",
    "#j+2. j+3\n",
    "            j = j + 2\n",
    "    except Exception:\n",
    "        continue"
   ]
  },
  {
   "cell_type": "code",
   "execution_count": 41,
   "metadata": {},
   "outputs": [
    {
     "data": {
      "text/plain": [
       "{0: 1.0,\n",
       " 3.5245783413480456e-14: 0.22170818692688132,\n",
       " 0.7782918130731187: -0.0,\n",
       " 1.0384615359642075: -0.0,\n",
       " 1.500000000057013: -0.0,\n",
       " 1.9615384704786938: -0.0,\n",
       " 2.221708200864027: -0.0,\n",
       " 3: 1,\n",
       " 3.0000000000000173: 0.2217082008640272}"
      ]
     },
     "execution_count": 41,
     "metadata": {},
     "output_type": "execute_result"
    }
   ],
   "source": [
    "phi"
   ]
  },
  {
   "cell_type": "code",
   "execution_count": 42,
   "metadata": {},
   "outputs": [
    {
     "data": {
      "text/plain": [
       "{(1.500000000057013, 0.0): 1.0,\n",
       " (1.0384615359642075, 0.0): 1.2130177537845186,\n",
       " (1.9615384704786938, 0.0): 1.2130177597318115,\n",
       " (0.0, -1.0): 2.25}"
      ]
     },
     "execution_count": 42,
     "metadata": {},
     "output_type": "execute_result"
    }
   ],
   "source": [
    "optimal"
   ]
  },
  {
   "cell_type": "code",
   "execution_count": null,
   "metadata": {},
   "outputs": [],
   "source": []
  }
 ],
 "metadata": {
  "kernelspec": {
   "display_name": "Python 3",
   "language": "python",
   "name": "python3"
  },
  "language_info": {
   "codemirror_mode": {
    "name": "ipython",
    "version": 3
   },
   "file_extension": ".py",
   "mimetype": "text/x-python",
   "name": "python",
   "nbconvert_exporter": "python",
   "pygments_lexer": "ipython3",
   "version": "3.8.3"
  }
 },
 "nbformat": 4,
 "nbformat_minor": 4
}
